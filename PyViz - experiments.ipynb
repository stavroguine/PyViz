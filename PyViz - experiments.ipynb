{
 "cells": [
  {
   "cell_type": "code",
   "execution_count": 1,
   "metadata": {},
   "outputs": [
    {
     "name": "stdout",
     "output_type": "stream",
     "text": [
      "Populating the interactive namespace from numpy and matplotlib\n"
     ]
    }
   ],
   "source": [
    "%pylab inline\n"
   ]
  },
  {
   "cell_type": "code",
   "execution_count": 2,
   "metadata": {},
   "outputs": [
    {
     "data": {
      "text/plain": [
       "[<matplotlib.lines.Line2D at 0x89f9ba8>]"
      ]
     },
     "execution_count": 2,
     "metadata": {},
     "output_type": "execute_result"
    },
    {
     "data": {
      "image/png": "[encoded data removed]",
      "text/plain": [
       "<matplotlib.figure.Figure at 0x8f6bbe0>"
      ]
     },
     "metadata": {},
     "output_type": "display_data"
    }
   ],
   "source": [
    "plot(arange(5))"
   ]
  },
  {
   "cell_type": "code",
   "execution_count": 7,
   "metadata": {},
   "outputs": [],
   "source": [
    "import requests \n",
    "import pandas as pd\n",
    "import json\n",
    "import numpy as np\n",
    "import matplotlib as plt\n",
    "from pandas.io.json import json_normalize"
   ]
  },
  {
   "cell_type": "code",
   "execution_count": 4,
   "metadata": {},
   "outputs": [],
   "source": [
    "baseUrl = \"https://opendata.lillemetropole.fr/api/records/1.0/search/?dataset=\"\n",
    "paramUrl = \"&rows=120\"\n",
    "# on définit une liste vide qui sera incrémentée à chaque nouvelle dataframe\n",
    "dataFrames = []\n",
    "# dictionnaire numéroté pour concaténer l'url avec les nom de services à analyser\n",
    "services = { 0: \"bureaux-de-poste\",\n",
    "             1: \"localisation-hopitaux\",\n",
    "             2: \"magasins-et-boutiques\",\n",
    "             3: \"cinemas-theatres-mel\",\n",
    "             4: \"adresse-et-geolocalisation-des-etablissements-denseignement-du-premier-et-second\",\n",
    "}\n",
    "# pour chaque service, la boucle créé l'url d'appel correspondant puis normalise le résultat du json et le classe dans une dataframe\n",
    "for i in range(5):\n",
    " urlApi = baseUrl + services[i] + paramUrl\n",
    " dataFrames.append(pd.DataFrame.from_dict(pd.io.json.json_normalize(json.loads(requests.get(urlApi).text)['records']), orient='columns'))\n"
   ]
  },
  {
   "cell_type": "code",
   "execution_count": 5,
   "metadata": {},
   "outputs": [
    {
     "data": {
      "text/html": [
       "<div>\n",
       "<style>\n",
       "    .dataframe thead tr:only-child th {\n",
       "        text-align: right;\n",
       "    }\n",
       "\n",
       "    .dataframe thead th {\n",
       "        text-align: left;\n",
       "    }\n",
       "\n",
       "    .dataframe tbody tr th {\n",
       "        vertical-align: top;\n",
       "    }\n",
       "</style>\n",
       "<table border=\"1\" class=\"dataframe\">\n",
       "  <thead>\n",
       "    <tr style=\"text-align: right;\">\n",
       "      <th></th>\n",
       "      <th>datasetid</th>\n",
       "      <th>fields.code_postal</th>\n",
       "      <th>fields.commune</th>\n",
       "      <th>fields.geo_point_2d</th>\n",
       "      <th>fields.geometry.coordinates</th>\n",
       "      <th>fields.geometry.type</th>\n",
       "      <th>fields.libelle</th>\n",
       "      <th>fields.objectid</th>\n",
       "      <th>geometry.coordinates</th>\n",
       "      <th>geometry.type</th>\n",
       "      <th>record_timestamp</th>\n",
       "      <th>recordid</th>\n",
       "    </tr>\n",
       "  </thead>\n",
       "  <tbody>\n",
       "    <tr>\n",
       "      <th>0</th>\n",
       "      <td>bureaux-de-poste</td>\n",
       "      <td>59150</td>\n",
       "      <td>WATTRELOS</td>\n",
       "      <td>[50.703545071172, 3.2352637437863]</td>\n",
       "      <td>[3.2352637437863, 50.703545071172]</td>\n",
       "      <td>Point</td>\n",
       "      <td>LA POSTE BEAULIEU</td>\n",
       "      <td>1880</td>\n",
       "      <td>[3.2352637437863, 50.703545071172]</td>\n",
       "      <td>Point</td>\n",
       "      <td>2017-11-28T19:00:35+00:00</td>\n",
       "      <td>956bfba6ae198609cd9e5efecffdbe3d412330c3</td>\n",
       "    </tr>\n",
       "    <tr>\n",
       "      <th>1</th>\n",
       "      <td>bureaux-de-poste</td>\n",
       "      <td>59120</td>\n",
       "      <td>LOOS</td>\n",
       "      <td>[50.615027489749, 3.0120537705089]</td>\n",
       "      <td>[3.0120537705089, 50.615027489749]</td>\n",
       "      <td>Point</td>\n",
       "      <td>LA POSTE</td>\n",
       "      <td>1114</td>\n",
       "      <td>[3.0120537705089, 50.615027489749]</td>\n",
       "      <td>Point</td>\n",
       "      <td>2017-11-28T19:00:35+00:00</td>\n",
       "      <td>fcead47a238d8e2adc3806c2c4c5475add635aab</td>\n",
       "    </tr>\n",
       "    <tr>\n",
       "      <th>2</th>\n",
       "      <td>bureaux-de-poste</td>\n",
       "      <td>59120</td>\n",
       "      <td>LOOS</td>\n",
       "      <td>[50.606371620201, 3.0087921128636]</td>\n",
       "      <td>[3.0087921128636, 50.606371620201]</td>\n",
       "      <td>Point</td>\n",
       "      <td>LA POSTE LES OLIVEAUX</td>\n",
       "      <td>1087</td>\n",
       "      <td>[3.0087921128636, 50.606371620201]</td>\n",
       "      <td>Point</td>\n",
       "      <td>2017-11-28T19:00:35+00:00</td>\n",
       "      <td>b295972fc9c689a2a8b685408fa3fbbe6c6470a4</td>\n",
       "    </tr>\n",
       "    <tr>\n",
       "      <th>3</th>\n",
       "      <td>bureaux-de-poste</td>\n",
       "      <td>59260</td>\n",
       "      <td>LEZENNES</td>\n",
       "      <td>[50.614201599495, 3.1128628265344]</td>\n",
       "      <td>[3.1128628265344, 50.614201599495]</td>\n",
       "      <td>Point</td>\n",
       "      <td>LA POSTE</td>\n",
       "      <td>850</td>\n",
       "      <td>[3.1128628265344, 50.614201599495]</td>\n",
       "      <td>Point</td>\n",
       "      <td>2017-11-28T19:00:35+00:00</td>\n",
       "      <td>be8fafa78d72b6034641a70e8ea4c39a8ab636e3</td>\n",
       "    </tr>\n",
       "    <tr>\n",
       "      <th>4</th>\n",
       "      <td>bureaux-de-poste</td>\n",
       "      <td>59790</td>\n",
       "      <td>RONCHIN</td>\n",
       "      <td>[50.607749999571, 3.0817345250781]</td>\n",
       "      <td>[3.0817345250781, 50.607749999571]</td>\n",
       "      <td>Point</td>\n",
       "      <td>LA POSTE</td>\n",
       "      <td>1365</td>\n",
       "      <td>[3.0817345250781, 50.607749999571]</td>\n",
       "      <td>Point</td>\n",
       "      <td>2017-11-28T19:00:35+00:00</td>\n",
       "      <td>3146daac1d453099658a2f2268fca4fb84dc6ff3</td>\n",
       "    </tr>\n",
       "    <tr>\n",
       "      <th>5</th>\n",
       "      <td>bureaux-de-poste</td>\n",
       "      <td>59263</td>\n",
       "      <td>HOUPLIN-ANCOISNE</td>\n",
       "      <td>[50.569420990851, 2.9983775270643]</td>\n",
       "      <td>[2.9983775270643, 50.569420990851]</td>\n",
       "      <td>Point</td>\n",
       "      <td>LA POSTE</td>\n",
       "      <td>703</td>\n",
       "      <td>[2.9983775270643, 50.569420990851]</td>\n",
       "      <td>Point</td>\n",
       "      <td>2017-11-28T19:00:35+00:00</td>\n",
       "      <td>54db06d270210f81d479f556d9dad265d558f4ff</td>\n",
       "    </tr>\n",
       "    <tr>\n",
       "      <th>6</th>\n",
       "      <td>bureaux-de-poste</td>\n",
       "      <td>59000</td>\n",
       "      <td>LILLE</td>\n",
       "      <td>[50.632669692082, 3.0748408242202]</td>\n",
       "      <td>[3.0748408242202, 50.632669692082]</td>\n",
       "      <td>Point</td>\n",
       "      <td>POSTE (CENTRE REGIONAL)</td>\n",
       "      <td>4253</td>\n",
       "      <td>[3.0748408242202, 50.632669692082]</td>\n",
       "      <td>Point</td>\n",
       "      <td>2017-11-28T19:00:35+00:00</td>\n",
       "      <td>261cd4a61bbda73538178950a8d8843c2c4a9c41</td>\n",
       "    </tr>\n",
       "    <tr>\n",
       "      <th>7</th>\n",
       "      <td>bureaux-de-poste</td>\n",
       "      <td>59136</td>\n",
       "      <td>WAVRIN</td>\n",
       "      <td>[50.572978406478, 2.9382155097977]</td>\n",
       "      <td>[2.9382155097977, 50.572978406478]</td>\n",
       "      <td>Point</td>\n",
       "      <td>LA POSTE</td>\n",
       "      <td>1943</td>\n",
       "      <td>[2.9382155097977, 50.572978406478]</td>\n",
       "      <td>Point</td>\n",
       "      <td>2017-11-28T19:00:35+00:00</td>\n",
       "      <td>9b0192a9e2045fa533b5a2b66290ffe350a51fc9</td>\n",
       "    </tr>\n",
       "    <tr>\n",
       "      <th>8</th>\n",
       "      <td>bureaux-de-poste</td>\n",
       "      <td>59320</td>\n",
       "      <td>EMMERIN</td>\n",
       "      <td>[50.593291223694, 3.0007080623128]</td>\n",
       "      <td>[3.0007080623128, 50.593291223694]</td>\n",
       "      <td>Point</td>\n",
       "      <td>LA POSTE</td>\n",
       "      <td>445</td>\n",
       "      <td>[3.0007080623128, 50.593291223694]</td>\n",
       "      <td>Point</td>\n",
       "      <td>2017-11-28T19:00:35+00:00</td>\n",
       "      <td>396c9317d7c54b84aa18761b530298db448a262e</td>\n",
       "    </tr>\n",
       "    <tr>\n",
       "      <th>9</th>\n",
       "      <td>bureaux-de-poste</td>\n",
       "      <td>59155</td>\n",
       "      <td>FACHES-THUMESNIL</td>\n",
       "      <td>[50.602232877748, 3.0697039926035]</td>\n",
       "      <td>[3.0697039926035, 50.602232877748]</td>\n",
       "      <td>Point</td>\n",
       "      <td>LA POSTE</td>\n",
       "      <td>484</td>\n",
       "      <td>[3.0697039926035, 50.602232877748]</td>\n",
       "      <td>Point</td>\n",
       "      <td>2017-11-28T19:00:35+00:00</td>\n",
       "      <td>7288f1930d503b86c63443f87db2299b8d105638</td>\n",
       "    </tr>\n",
       "  </tbody>\n",
       "</table>\n",
       "</div>"
      ],
      "text/plain": [
       "          datasetid fields.code_postal    fields.commune  \\\n",
       "0  bureaux-de-poste              59150         WATTRELOS   \n",
       "1  bureaux-de-poste              59120              LOOS   \n",
       "2  bureaux-de-poste              59120              LOOS   \n",
       "3  bureaux-de-poste              59260          LEZENNES   \n",
       "4  bureaux-de-poste              59790           RONCHIN   \n",
       "5  bureaux-de-poste              59263  HOUPLIN-ANCOISNE   \n",
       "6  bureaux-de-poste              59000             LILLE   \n",
       "7  bureaux-de-poste              59136            WAVRIN   \n",
       "8  bureaux-de-poste              59320           EMMERIN   \n",
       "9  bureaux-de-poste              59155  FACHES-THUMESNIL   \n",
       "\n",
       "                  fields.geo_point_2d         fields.geometry.coordinates  \\\n",
       "0  [50.703545071172, 3.2352637437863]  [3.2352637437863, 50.703545071172]   \n",
       "1  [50.615027489749, 3.0120537705089]  [3.0120537705089, 50.615027489749]   \n",
       "2  [50.606371620201, 3.0087921128636]  [3.0087921128636, 50.606371620201]   \n",
       "3  [50.614201599495, 3.1128628265344]  [3.1128628265344, 50.614201599495]   \n",
       "4  [50.607749999571, 3.0817345250781]  [3.0817345250781, 50.607749999571]   \n",
       "5  [50.569420990851, 2.9983775270643]  [2.9983775270643, 50.569420990851]   \n",
       "6  [50.632669692082, 3.0748408242202]  [3.0748408242202, 50.632669692082]   \n",
       "7  [50.572978406478, 2.9382155097977]  [2.9382155097977, 50.572978406478]   \n",
       "8  [50.593291223694, 3.0007080623128]  [3.0007080623128, 50.593291223694]   \n",
       "9  [50.602232877748, 3.0697039926035]  [3.0697039926035, 50.602232877748]   \n",
       "\n",
       "  fields.geometry.type           fields.libelle fields.objectid  \\\n",
       "0                Point        LA POSTE BEAULIEU            1880   \n",
       "1                Point                 LA POSTE            1114   \n",
       "2                Point    LA POSTE LES OLIVEAUX            1087   \n",
       "3                Point                 LA POSTE             850   \n",
       "4                Point                 LA POSTE            1365   \n",
       "5                Point                 LA POSTE             703   \n",
       "6                Point  POSTE (CENTRE REGIONAL)            4253   \n",
       "7                Point                 LA POSTE            1943   \n",
       "8                Point                 LA POSTE             445   \n",
       "9                Point                 LA POSTE             484   \n",
       "\n",
       "                 geometry.coordinates geometry.type  \\\n",
       "0  [3.2352637437863, 50.703545071172]         Point   \n",
       "1  [3.0120537705089, 50.615027489749]         Point   \n",
       "2  [3.0087921128636, 50.606371620201]         Point   \n",
       "3  [3.1128628265344, 50.614201599495]         Point   \n",
       "4  [3.0817345250781, 50.607749999571]         Point   \n",
       "5  [2.9983775270643, 50.569420990851]         Point   \n",
       "6  [3.0748408242202, 50.632669692082]         Point   \n",
       "7  [2.9382155097977, 50.572978406478]         Point   \n",
       "8  [3.0007080623128, 50.593291223694]         Point   \n",
       "9  [3.0697039926035, 50.602232877748]         Point   \n",
       "\n",
       "            record_timestamp                                  recordid  \n",
       "0  2017-11-28T19:00:35+00:00  956bfba6ae198609cd9e5efecffdbe3d412330c3  \n",
       "1  2017-11-28T19:00:35+00:00  fcead47a238d8e2adc3806c2c4c5475add635aab  \n",
       "2  2017-11-28T19:00:35+00:00  b295972fc9c689a2a8b685408fa3fbbe6c6470a4  \n",
       "3  2017-11-28T19:00:35+00:00  be8fafa78d72b6034641a70e8ea4c39a8ab636e3  \n",
       "4  2017-11-28T19:00:35+00:00  3146daac1d453099658a2f2268fca4fb84dc6ff3  \n",
       "5  2017-11-28T19:00:35+00:00  54db06d270210f81d479f556d9dad265d558f4ff  \n",
       "6  2017-11-28T19:00:35+00:00  261cd4a61bbda73538178950a8d8843c2c4a9c41  \n",
       "7  2017-11-28T19:00:35+00:00  9b0192a9e2045fa533b5a2b66290ffe350a51fc9  \n",
       "8  2017-11-28T19:00:35+00:00  396c9317d7c54b84aa18761b530298db448a262e  \n",
       "9  2017-11-28T19:00:35+00:00  7288f1930d503b86c63443f87db2299b8d105638  "
      ]
     },
     "execution_count": 5,
     "metadata": {},
     "output_type": "execute_result"
    }
   ],
   "source": [
    "dataFrames[0].head(10)"
   ]
  },
  {
   "cell_type": "code",
   "execution_count": 10,
   "metadata": {},
   "outputs": [
    {
     "data": {
      "text/plain": [
       "count                  117\n",
       "unique                   1\n",
       "top       bureaux-de-poste\n",
       "freq                   117\n",
       "Name: datasetid, dtype: object"
      ]
     },
     "execution_count": 10,
     "metadata": {},
     "output_type": "execute_result"
    }
   ],
   "source": [
    "dataFrames[0]['datasetid'].describe()"
   ]
  },
  {
   "cell_type": "code",
   "execution_count": 12,
   "metadata": {},
   "outputs": [
    {
     "data": {
      "text/plain": [
       "LILLE                        18\n",
       "ROUBAIX                       8\n",
       "VILLENEUVE D'ASCQ             8\n",
       "TOURCOING                     7\n",
       "MARCQ-EN-BAROEUL              4\n",
       "LAMBERSART                    3\n",
       "WATTRELOS                     3\n",
       "WASQUEHAL                     2\n",
       "LOOS                          2\n",
       "RONCQ                         2\n",
       "CROIX                         2\n",
       "LA MADELEINE                  2\n",
       "HAUBOURDIN                    2\n",
       "(LOMME) LILLE                 2\n",
       "RONCHIN                       2\n",
       "TEMPLEMARS                    1\n",
       "SECLIN                        1\n",
       "WATTIGNIES                    1\n",
       "LA CHAPELLE D'ARMENTIERES     1\n",
       "BAISIEUX                      1\n",
       "HEM                           1\n",
       "(HELLEMMES) LILLE             1\n",
       "PERENCHIES                    1\n",
       "SAINGHIN EN MELANTOIS         1\n",
       "QUESNOY SUR DEULE             1\n",
       "HOUPLIN-ANCOISNE              1\n",
       "HOUPLINES                     1\n",
       "BONDUES                       1\n",
       "NOYELLES                      1\n",
       "VERLINGHEM                    1\n",
       "                             ..\n",
       "FOURNES-EN-WEPPES             1\n",
       "FACHES-THUMESNIL              1\n",
       "WAMBRECHIES                   1\n",
       "LEZENNES                      1\n",
       "LESQUIN                       1\n",
       "MARQUETTE                     1\n",
       "LA BASSEE                     1\n",
       "SANTES                        1\n",
       "ILLIES                        1\n",
       "CHERENG                       1\n",
       "MONS-EN-BAROEUL               1\n",
       "LYS-LEZ-LANNOY                1\n",
       "WAVRIN                        1\n",
       "COMINES                       1\n",
       "ARMENTIERES                   1\n",
       "SEQUEDIN                      1\n",
       "DON                           1\n",
       "ERQUINGHEM-LYS                1\n",
       "MARQUILLIES                   1\n",
       "LINSELLES                     1\n",
       "SAINGHIN EN WEPPES            1\n",
       "EMMERIN                       1\n",
       "NEUVILLE EN FERRAIN           1\n",
       "WERVICQ-SUD                   1\n",
       "BOUSBECQUE                    1\n",
       "HALLENNES-LEZ-HAUBOURDIN      1\n",
       "SAINT-ANDRE                   1\n",
       "MOUVAUX                       1\n",
       "LANNOY                        1\n",
       "FRELINGHIEN                   1\n",
       "Name: fields.commune, Length: 65, dtype: int64"
      ]
     },
     "execution_count": 12,
     "metadata": {},
     "output_type": "execute_result"
    }
   ],
   "source": [
    "dataFrames[0]['fields.commune'].value_counts()"
   ]
  },
  {
   "cell_type": "code",
   "execution_count": 45,
   "metadata": {},
   "outputs": [
    {
     "data": {
      "text/plain": [
       "<matplotlib.axes._subplots.AxesSubplot at 0x17f2c5f8>"
      ]
     },
     "execution_count": 45,
     "metadata": {},
     "output_type": "execute_result"
    },
    {
     "data": {
      "image/png": "[encoded data removed]",
      "text/plain": [
       "<matplotlib.figure.Figure at 0x18074f28>"
      ]
     },
     "metadata": {},
     "output_type": "display_data"
    }
   ],
   "source": [
    "dataFrames[0]['fields.commune'].hist()"
   ]
  },
  {
   "cell_type": "code",
   "execution_count": 54,
   "metadata": {},
   "outputs": [
    {
     "data": {
      "text/plain": [
       "<matplotlib.axes._subplots.AxesSubplot at 0x1832ac18>"
      ]
     },
     "execution_count": 54,
     "metadata": {},
     "output_type": "execute_result"
    },
    {
     "data": {
      "image/png": "[encoded data removed]",
      "text/plain": [
       "<matplotlib.figure.Figure at 0x18433080>"
      ]
     },
     "metadata": {},
     "output_type": "display_data"
    }
   ],
   "source": [
    "dataFrames[0]['fields.commune'].value_counts().plot()"
   ]
  },
  {
   "cell_type": "code",
   "execution_count": 58,
   "metadata": {},
   "outputs": [
    {
     "data": {
      "image/png": "[encoded data removed]",
      "text/plain": [
       "<matplotlib.figure.Figure at 0x187eb710>"
      ]
     },
     "metadata": {},
     "output_type": "display_data"
    }
   ],
   "source": [
    "import numpy as np\n",
    "import matplotlib.pyplot as plt\n",
    "\n",
    "x = dataFrames[0]['fields.commune'].value_counts()\n",
    "\n",
    "fig = plt.figure()\n",
    "ax = fig.add_subplot(111)\n",
    "n, bins, rectangles = ax.hist(x, 50, normed=True)\n",
    "fig.canvas.draw()\n",
    "plt.show()"
   ]
  }
 ],
 "metadata": {
  "kernelspec": {
   "display_name": "Python 3",
   "language": "python",
   "name": "python3"
  },
  "language_info": {
   "codemirror_mode": {
    "name": "ipython",
    "version": 3
   },
   "file_extension": ".py",
   "mimetype": "text/x-python",
   "name": "python",
   "nbconvert_exporter": "python",
   "pygments_lexer": "ipython3",
   "version": "3.6.3"
  }
 },
 "nbformat": 4,
 "nbformat_minor": 2
}
