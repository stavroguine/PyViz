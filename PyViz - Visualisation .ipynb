{
 "cells": [
  {
   "cell_type": "code",
   "execution_count": 3,
   "metadata": {},
   "outputs": [
    {
     "name": "stdout",
     "output_type": "stream",
     "text": [
      "{'LILLE': 18, 'ROUBAIX': 8, \"VILLENEUVE D'ASCQ\": 8, 'TOURCOING': 7, 'MARCQ-EN-BAROEUL': 4, 'WATTRELOS': 3, 'LAMBERSART': 3, 'LA MADELEINE': 2, 'CROIX': 2, 'WASQUEHAL': 2, 'HAUBOURDIN': 2, 'RONCQ': 2, 'LOOS': 2, '(LOMME) LILLE': 2, 'RONCHIN': 2}\n"
     ]
    }
   ],
   "source": [
    "import requests \n",
    "import pandas as pd\n",
    "import json\n",
    "from pandas.io.json import json_normalize\n",
    "\n",
    "baseUrl = \"https://opendata.lillemetropole.fr/api/records/1.0/search/?dataset=\"\n",
    "paramUrl = \"&rows=120\"\n",
    "# on définit une liste vide qui sera incrémentée à chaque nouvelle dataframe\n",
    "dataFrames = []\n",
    "# dictionnaire numéroté pour concaténer l'url avec les nom de services à analyser\n",
    "services = { 0: \"bureaux-de-poste\",\n",
    "             1: \"localisation-hopitaux\",\n",
    "             2: \"magasins-et-boutiques\",\n",
    "             3: \"cinemas-theatres-mel\",\n",
    "             4: \"adresse-et-geolocalisation-des-etablissements-denseignement-du-premier-et-second\",\n",
    "}\n",
    "# pour chaque service, la boucle créé l'url d'appel correspondant puis normalise le résultat du json et le classe dans une dataframe\n",
    "for i in range(5):\n",
    " urlApi = baseUrl + services[i] + paramUrl\n",
    " dataFrames.append(pd.DataFrame.from_dict(pd.io.json.json_normalize(json.loads(requests.get(urlApi).text)['records']), orient='columns'))\n",
    "\n",
    "#Pour chaque service, on tâchera de répertorier dans un dictionnaire uniquement les villes contenant plus de 1 référence\n",
    "townCountValues = dataFrames[0]['fields.commune'].value_counts()\n",
    "townCountDict = {}\n",
    "for key, townCountValue in townCountValues.items():\n",
    " if townCountValue > 1:\n",
    "    townCountDict.update({key:townCountValue})\n",
    "print(townCountDict)"
   ]
  }
 ],
 "metadata": {
  "kernelspec": {
   "display_name": "Python 3",
   "language": "python",
   "name": "python3"
  },
  "language_info": {
   "codemirror_mode": {
    "name": "ipython",
    "version": 3
   },
   "file_extension": ".py",
   "mimetype": "text/x-python",
   "name": "python",
   "nbconvert_exporter": "python",
   "pygments_lexer": "ipython3",
   "version": "3.6.3"
  }
 },
 "nbformat": 4,
 "nbformat_minor": 2
}
