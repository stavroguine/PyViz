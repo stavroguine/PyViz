{
 "cells": [
  {
   "cell_type": "code",
   "execution_count": 1,
   "metadata": {},
   "outputs": [],
   "source": [
    "import requests \n",
    "import pandas as pd\n",
    "import json\n",
    "from pandas.io.json import json_normalize\n",
    "\n",
    "baseUrl = \"https://opendata.lillemetropole.fr/api/records/1.0/search/?dataset=\"\n",
    "paramUrl = \"&rows=120\"\n",
    "# on définit une liste vide qui sera incrémentée à chaque nouvelle dataframe\n",
    "dataFrames = []\n",
    "# dictionnaire numéroté pour concaténer l'url avec les nom de services à analyser\n",
    "services = { 0: \"bureaux-de-poste\",\n",
    "             1: \"localisation-hopitaux\",\n",
    "             2: \"magasins-et-boutiques\",\n",
    "             3: \"cinemas-theatres-mel\",\n",
    "             4: \"adresse-et-geolocalisation-des-etablissements-denseignement-du-premier-et-second\",\n",
    "}\n",
    "# pour chaque service, la boucle créé l'url d'appel correspondant puis normalise le résultat du json et le classe dans une dataframe\n",
    "for i in range(5):\n",
    " urlApi = baseUrl + services[i] + paramUrl\n",
    " dataFrames.append(pd.DataFrame.from_dict(pd.io.json.json_normalize(json.loads(requests.get(urlApi).text)['records']), orient='columns'))"
   ]
  },
  {
   "cell_type": "code",
   "execution_count": 31,
   "metadata": {},
   "outputs": [
    {
     "name": "stdout",
     "output_type": "stream",
     "text": [
      "['LILLE', \"VILLENEUVE D'ASCQ\", 'ROUBAIX', 'TOURCOING', 'MARCQ-EN-BAROEUL', 'WATTRELOS', 'LAMBERSART', 'CROIX', 'LA MADELEINE', 'RONCQ', 'LOOS', 'WASQUEHAL', 'HAUBOURDIN', 'RONCHIN', '(LOMME) LILLE', 'ARMENTIERES', 'BONDUES', 'WERVICQ-SUD', 'HEM', 'WAMBRECHIES', 'HOUPLIN-ANCOISNE', 'MARQUETTE', 'SAINGHIN EN WEPPES', 'WATTIGNIES', 'TEMPLEMARS', 'LA BASSEE', 'BAISIEUX', 'PERENCHIES', 'MOUVAUX', 'ERQUINGHEM-LYS', 'BOUSBECQUE', \"LA CHAPELLE D'ARMENTIERES\", 'NOYELLES', 'DON', 'LEERS', 'LYS-LEZ-LANNOY', 'FOURNES-EN-WEPPES', 'NEUVILLE EN FERRAIN', '(HELLEMMES) LILLE', 'WAVRIN', 'SEQUEDIN', 'SANTES', 'COMINES', 'MARQUILLIES', 'ILLIES', 'FRETIN', 'FACHES-THUMESNIL', 'EMMERIN', 'HALLUIN', 'TOUFFLERS', 'MONS-EN-BAROEUL', 'FRELINGHIEN', 'QUESNOY SUR DEULE', 'SALOME', 'LANNOY', 'HOUPLINES', 'LESQUIN', 'SAINT-ANDRE', 'SECLIN', 'VERLINGHEM', 'SAINGHIN EN MELANTOIS', 'CHERENG', 'HALLENNES-LEZ-HAUBOURDIN', 'LINSELLES', 'LEZENNES']\n"
     ]
    }
   ],
   "source": [
    "listTownCountValue = dataFrames[0]['fields.commune'].value_counts().index.tolist()\n",
    "print(listTownCountValue)"
   ]
  },
  {
   "cell_type": "code",
   "execution_count": 38,
   "metadata": {},
   "outputs": [
    {
     "name": "stdout",
     "output_type": "stream",
     "text": [
      "LILLE\n",
      "VILLENEUVE D'ASCQ\n",
      "ROUBAIX\n",
      "TOURCOING\n",
      "MARCQ-EN-BAROEUL\n",
      "WATTRELOS\n",
      "LAMBERSART\n",
      "CROIX\n",
      "LA MADELEINE\n",
      "RONCQ\n",
      "LOOS\n",
      "WASQUEHAL\n",
      "HAUBOURDIN\n",
      "RONCHIN\n",
      "(LOMME) LILLE\n"
     ]
    }
   ],
   "source": [
    "#Pour chaque service, on tâchera de répertorier uniquement les villes contenant plus de 1 référence\n",
    "townCountValues = dataFrames[0]['fields.commune'].value_counts()\n",
    "for key, townCountValue in townCountValues.items():\n",
    " if townCountValue > 1:\n",
    "    print(key)"
   ]
  }
 ],
 "metadata": {
  "kernelspec": {
   "display_name": "Python 3",
   "language": "python",
   "name": "python3"
  },
  "language_info": {
   "codemirror_mode": {
    "name": "ipython",
    "version": 3
   },
   "file_extension": ".py",
   "mimetype": "text/x-python",
   "name": "python",
   "nbconvert_exporter": "python",
   "pygments_lexer": "ipython3",
   "version": "3.6.3"
  }
 },
 "nbformat": 4,
 "nbformat_minor": 2
}
